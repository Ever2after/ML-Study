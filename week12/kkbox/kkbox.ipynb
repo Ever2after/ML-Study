{
 "cells": [
  {
   "attachments": {},
   "cell_type": "markdown",
   "metadata": {},
   "source": [
    "### Imports"
   ]
  },
  {
   "cell_type": "code",
   "execution_count": 1,
   "metadata": {},
   "outputs": [],
   "source": [
    "# pandas and numpy\n",
    "import pandas as pd\n",
    "import pandas_profiling\n",
    "import numpy as np\n",
    "import warnings\n",
    "warnings.filterwarnings('ignore')\n",
    "\n",
    "# other\n",
    "import string\n",
    "import math\n",
    "import missingno as msno\n",
    "\n",
    "# data viz\n",
    "import seaborn as sns\n",
    "from matplotlib import pyplot as plt\n",
    "%matplotlib inline\n",
    "# from autoviz.AutoViz_Class import AutoViz_Class\n",
    "# %matplotlib inline\n",
    "import plotly.express as px\n",
    "%matplotlib inline\n",
    "\n",
    "# sklearn - other\n",
    "from sklearn.model_selection import train_test_split, RandomizedSearchCV, GridSearchCV, StratifiedKFold\n",
    "from sklearn.metrics import roc_curve, roc_auc_score, accuracy_score, confusion_matrix, classification_report\n",
    "from sklearn.preprocessing import OneHotEncoder, LabelEncoder, OrdinalEncoder, MinMaxScaler\n",
    "from sklearn.impute import SimpleImputer\n",
    "\n",
    "# sklearn - ML models\n",
    "from sklearn.ensemble import RandomForestClassifier, ExtraTreesClassifier\n",
    "\n",
    "# lightgbm\n",
    "import lightgbm as lgbm\n",
    "\n",
    "# xgboost\n",
    "import xgboost as xgb\n",
    "\n",
    "# catboost\n",
    "import catboost as cb"
   ]
  },
  {
   "attachments": {},
   "cell_type": "markdown",
   "metadata": {},
   "source": [
    "### Data load"
   ]
  },
  {
   "cell_type": "code",
   "execution_count": 2,
   "metadata": {},
   "outputs": [],
   "source": [
    "members = pd.read_csv(\"./members.csv\")\n",
    "songs = pd.read_csv(\"./songs.csv\")\n",
    "test = pd.read_csv(\"./test.csv\")\n",
    "train = pd.read_csv(\"./train.csv\")"
   ]
  },
  {
   "attachments": {},
   "cell_type": "markdown",
   "metadata": {},
   "source": [
    "### Summarize"
   ]
  },
  {
   "cell_type": "code",
   "execution_count": null,
   "metadata": {},
   "outputs": [],
   "source": [
    "# members.profile_report()"
   ]
  },
  {
   "cell_type": "code",
   "execution_count": null,
   "metadata": {},
   "outputs": [],
   "source": [
    "# train.profile_report()"
   ]
  },
  {
   "attachments": {},
   "cell_type": "markdown",
   "metadata": {},
   "source": [
    "### Handle missing values"
   ]
  },
  {
   "cell_type": "code",
   "execution_count": 5,
   "metadata": {},
   "outputs": [],
   "source": [
    "members = members.drop([\"bd\", \"gender\"], axis = 1)"
   ]
  },
  {
   "cell_type": "code",
   "execution_count": 6,
   "metadata": {},
   "outputs": [],
   "source": [
    "songs = songs.drop([\"composer\", \"lyricist\"], axis = 1)"
   ]
  },
  {
   "cell_type": "code",
   "execution_count": 7,
   "metadata": {},
   "outputs": [],
   "source": [
    "genre_impute = SimpleImputer(missing_values = np.nan, strategy = 'most_frequent')\n",
    "songs = pd.DataFrame(genre_impute.fit_transform(songs), columns = songs.columns)"
   ]
  },
  {
   "cell_type": "code",
   "execution_count": 8,
   "metadata": {},
   "outputs": [],
   "source": [
    "train = train.drop(\"source_screen_name\", axis = 1)\n",
    "test = test.drop(\"source_screen_name\", axis = 1)"
   ]
  },
  {
   "cell_type": "code",
   "execution_count": 9,
   "metadata": {},
   "outputs": [],
   "source": [
    "X_test = test.drop(\"id\", axis = 1)\n",
    "y_train = train[\"target\"]\n",
    "X_train = train.drop(\"target\", axis = 1)"
   ]
  },
  {
   "cell_type": "code",
   "execution_count": 10,
   "metadata": {},
   "outputs": [],
   "source": [
    "train_impute = SimpleImputer(missing_values = np.nan, strategy=\"most_frequent\")\n",
    "X_train = pd.DataFrame(train_impute.fit_transform(X_train), columns = X_train.columns)\n",
    "X_test = pd.DataFrame(train_impute.transform(X_test), columns = X_test.columns)"
   ]
  },
  {
   "attachments": {},
   "cell_type": "markdown",
   "metadata": {},
   "source": [
    "### Merge data"
   ]
  },
  {
   "cell_type": "code",
   "execution_count": 11,
   "metadata": {},
   "outputs": [
    {
     "data": {
      "text/html": [
       "<div>\n",
       "<style scoped>\n",
       "    .dataframe tbody tr th:only-of-type {\n",
       "        vertical-align: middle;\n",
       "    }\n",
       "\n",
       "    .dataframe tbody tr th {\n",
       "        vertical-align: top;\n",
       "    }\n",
       "\n",
       "    .dataframe thead th {\n",
       "        text-align: right;\n",
       "    }\n",
       "</style>\n",
       "<table border=\"1\" class=\"dataframe\">\n",
       "  <thead>\n",
       "    <tr style=\"text-align: right;\">\n",
       "      <th></th>\n",
       "      <th>msno</th>\n",
       "      <th>song_id</th>\n",
       "      <th>source_system_tab</th>\n",
       "      <th>source_type</th>\n",
       "      <th>city</th>\n",
       "      <th>registered_via</th>\n",
       "      <th>registration_init_time</th>\n",
       "      <th>expiration_date</th>\n",
       "      <th>song_length</th>\n",
       "      <th>genre_ids</th>\n",
       "      <th>artist_name</th>\n",
       "      <th>language</th>\n",
       "    </tr>\n",
       "  </thead>\n",
       "  <tbody>\n",
       "    <tr>\n",
       "      <th>0</th>\n",
       "      <td>FGtllVqz18RPiwJj/edr2gV78zirAiY/9SmYvia+kCg=</td>\n",
       "      <td>BBzumQNXUHKdEBOB7mAJuzok+IJA1c2Ryg/yzTF6tik=</td>\n",
       "      <td>explore</td>\n",
       "      <td>online-playlist</td>\n",
       "      <td>1</td>\n",
       "      <td>7</td>\n",
       "      <td>20120102</td>\n",
       "      <td>20171005</td>\n",
       "      <td>206471</td>\n",
       "      <td>359</td>\n",
       "      <td>Bastille</td>\n",
       "      <td>52.0</td>\n",
       "    </tr>\n",
       "    <tr>\n",
       "      <th>1</th>\n",
       "      <td>Xumu+NIjS6QYVxDS4/t3SawvJ7viT9hPKXmf0RtLNx8=</td>\n",
       "      <td>bhp/MpSNoqoxOIB+/l8WPqu6jldth4DIpCm3ayXnJqM=</td>\n",
       "      <td>my library</td>\n",
       "      <td>local-playlist</td>\n",
       "      <td>13</td>\n",
       "      <td>9</td>\n",
       "      <td>20110525</td>\n",
       "      <td>20170911</td>\n",
       "      <td>284584</td>\n",
       "      <td>1259</td>\n",
       "      <td>Various Artists</td>\n",
       "      <td>52.0</td>\n",
       "    </tr>\n",
       "    <tr>\n",
       "      <th>2</th>\n",
       "      <td>Xumu+NIjS6QYVxDS4/t3SawvJ7viT9hPKXmf0RtLNx8=</td>\n",
       "      <td>JNWfrrC7zNN7BdMpsISKa4Mw+xVJYNnxXh3/Epw7QgY=</td>\n",
       "      <td>my library</td>\n",
       "      <td>local-playlist</td>\n",
       "      <td>13</td>\n",
       "      <td>9</td>\n",
       "      <td>20110525</td>\n",
       "      <td>20170911</td>\n",
       "      <td>225396</td>\n",
       "      <td>1259</td>\n",
       "      <td>Nas</td>\n",
       "      <td>52.0</td>\n",
       "    </tr>\n",
       "    <tr>\n",
       "      <th>3</th>\n",
       "      <td>Xumu+NIjS6QYVxDS4/t3SawvJ7viT9hPKXmf0RtLNx8=</td>\n",
       "      <td>2A87tzfnJTSWqD7gIZHisolhe4DMdzkbd6LzO1KHjNs=</td>\n",
       "      <td>my library</td>\n",
       "      <td>local-playlist</td>\n",
       "      <td>13</td>\n",
       "      <td>9</td>\n",
       "      <td>20110525</td>\n",
       "      <td>20170911</td>\n",
       "      <td>255512</td>\n",
       "      <td>1019</td>\n",
       "      <td>Soundway</td>\n",
       "      <td>-1.0</td>\n",
       "    </tr>\n",
       "    <tr>\n",
       "      <th>4</th>\n",
       "      <td>FGtllVqz18RPiwJj/edr2gV78zirAiY/9SmYvia+kCg=</td>\n",
       "      <td>3qm6XTZ6MOCU11x8FIVbAGH5l5uMkT3/ZalWG1oo2Gc=</td>\n",
       "      <td>explore</td>\n",
       "      <td>online-playlist</td>\n",
       "      <td>1</td>\n",
       "      <td>7</td>\n",
       "      <td>20120102</td>\n",
       "      <td>20171005</td>\n",
       "      <td>187802</td>\n",
       "      <td>1011</td>\n",
       "      <td>Brett Young</td>\n",
       "      <td>52.0</td>\n",
       "    </tr>\n",
       "  </tbody>\n",
       "</table>\n",
       "</div>"
      ],
      "text/plain": [
       "                                           msno  \\\n",
       "0  FGtllVqz18RPiwJj/edr2gV78zirAiY/9SmYvia+kCg=   \n",
       "1  Xumu+NIjS6QYVxDS4/t3SawvJ7viT9hPKXmf0RtLNx8=   \n",
       "2  Xumu+NIjS6QYVxDS4/t3SawvJ7viT9hPKXmf0RtLNx8=   \n",
       "3  Xumu+NIjS6QYVxDS4/t3SawvJ7viT9hPKXmf0RtLNx8=   \n",
       "4  FGtllVqz18RPiwJj/edr2gV78zirAiY/9SmYvia+kCg=   \n",
       "\n",
       "                                        song_id source_system_tab  \\\n",
       "0  BBzumQNXUHKdEBOB7mAJuzok+IJA1c2Ryg/yzTF6tik=           explore   \n",
       "1  bhp/MpSNoqoxOIB+/l8WPqu6jldth4DIpCm3ayXnJqM=        my library   \n",
       "2  JNWfrrC7zNN7BdMpsISKa4Mw+xVJYNnxXh3/Epw7QgY=        my library   \n",
       "3  2A87tzfnJTSWqD7gIZHisolhe4DMdzkbd6LzO1KHjNs=        my library   \n",
       "4  3qm6XTZ6MOCU11x8FIVbAGH5l5uMkT3/ZalWG1oo2Gc=           explore   \n",
       "\n",
       "       source_type  city  registered_via  registration_init_time  \\\n",
       "0  online-playlist     1               7                20120102   \n",
       "1   local-playlist    13               9                20110525   \n",
       "2   local-playlist    13               9                20110525   \n",
       "3   local-playlist    13               9                20110525   \n",
       "4  online-playlist     1               7                20120102   \n",
       "\n",
       "   expiration_date song_length genre_ids      artist_name language  \n",
       "0         20171005      206471       359         Bastille     52.0  \n",
       "1         20170911      284584      1259  Various Artists     52.0  \n",
       "2         20170911      225396      1259              Nas     52.0  \n",
       "3         20170911      255512      1019         Soundway     -1.0  \n",
       "4         20171005      187802      1011      Brett Young     52.0  "
      ]
     },
     "execution_count": 11,
     "metadata": {},
     "output_type": "execute_result"
    }
   ],
   "source": [
    "X_train = pd.merge(X_train, members, on='msno', how='left')\n",
    "X_train = pd.merge(X_train, songs, on='song_id', how='left')\n",
    "X_train.head()"
   ]
  },
  {
   "cell_type": "code",
   "execution_count": 12,
   "metadata": {},
   "outputs": [],
   "source": [
    "X_test = pd.merge(X_test, members, on='msno', how='left')\n",
    "X_test = pd.merge(X_test, songs, on='song_id', how='left')"
   ]
  },
  {
   "attachments": {},
   "cell_type": "markdown",
   "metadata": {},
   "source": [
    "### Extracting feature"
   ]
  },
  {
   "cell_type": "code",
   "execution_count": 13,
   "metadata": {},
   "outputs": [],
   "source": [
    "X_train[\"registration_init_time\"] = pd.to_datetime(X_train[\"registration_init_time\"], format='%Y%m%d', errors='ignore')\n",
    "X_train[\"registration_year\"] = X_train[\"registration_init_time\"].dt.year\n",
    "X_train[\"registration_month\"] = X_train[\"registration_init_time\"].dt.month\n",
    "X_train[\"registration_day\"] = X_train[\"registration_init_time\"].dt.day\n",
    "\n",
    "X_test[\"registration_init_time\"] = pd.to_datetime(X_test[\"registration_init_time\"], format='%Y%m%d', errors='ignore')\n",
    "X_test[\"registration_year\"] = X_test[\"registration_init_time\"].dt.year\n",
    "X_test[\"registration_month\"] = X_test[\"registration_init_time\"].dt.month\n",
    "X_test[\"registration_day\"] = X_test[\"registration_init_time\"].dt.day\n",
    "\n",
    "X_train[\"expiration_date\"] = pd.to_datetime(X_train[\"expiration_date\"], format='%Y%m%d', errors='ignore')\n",
    "X_train[\"expiration_year\"] = X_train[\"expiration_date\"].dt.year\n",
    "X_train[\"expiration_month\"] = X_train[\"expiration_date\"].dt.month\n",
    "X_train[\"expiration_day\"] = X_train[\"expiration_date\"].dt.day\n",
    "\n",
    "X_test[\"expiration_date\"] = pd.to_datetime(X_test[\"expiration_date\"], format='%Y%m%d', errors='ignore')\n",
    "X_test[\"expiration_year\"] = X_test[\"expiration_date\"].dt.year\n",
    "X_test[\"expiration_month\"] = X_test[\"expiration_date\"].dt.month\n",
    "X_test[\"expiration_day\"] = X_test[\"expiration_date\"].dt.day"
   ]
  },
  {
   "cell_type": "code",
   "execution_count": 14,
   "metadata": {},
   "outputs": [],
   "source": [
    "X_train = X_train.drop([\"registration_init_time\", \"expiration_date\"], axis = 1)\n",
    "X_test = X_test.drop([\"registration_init_time\", \"expiration_date\"], axis = 1)"
   ]
  },
  {
   "attachments": {},
   "cell_type": "markdown",
   "metadata": {},
   "source": [
    "### Encoding"
   ]
  },
  {
   "cell_type": "code",
   "execution_count": 15,
   "metadata": {},
   "outputs": [
    {
     "data": {
      "text/plain": [
       "msno                   30755\n",
       "song_id               359966\n",
       "source_system_tab          8\n",
       "source_type               12\n",
       "city                      21\n",
       "registered_via             5\n",
       "song_length            60266\n",
       "genre_ids                572\n",
       "artist_name            40582\n",
       "language                  10\n",
       "registration_year         14\n",
       "registration_month        12\n",
       "registration_day          31\n",
       "expiration_year           18\n",
       "expiration_month          12\n",
       "expiration_day            31\n",
       "dtype: int64"
      ]
     },
     "execution_count": 15,
     "metadata": {},
     "output_type": "execute_result"
    }
   ],
   "source": [
    "X_train.nunique()"
   ]
  },
  {
   "cell_type": "code",
   "execution_count": 16,
   "metadata": {},
   "outputs": [],
   "source": [
    "# oh_features = X_train.columns[X_train.nunique() < 13]\n",
    "la_features = X_train.columns[X_train.nunique() > 1]\n"
   ]
  },
  {
   "cell_type": "code",
   "execution_count": 17,
   "metadata": {},
   "outputs": [
    {
     "data": {
      "text/plain": [
       "\"\\narr = oh_enc.fit_transform(X_train[oh_features]).toarray()\\nX_train = pd.concat([X_train, pd.DataFrame(arr, columns = oh_enc.get_feature_names_out()).astype('int64')], axis = 1)\\nX_train = X_train.drop(oh_features, axis = 1)\\n\\narr = oh_enc.transform(X_test[oh_features]).toarray()\\nX_test = pd.concat([X_test, pd.DataFrame(arr, columns = oh_enc.get_feature_names_out()).astype('int64')], axis = 1)\\nX_test = X_test.drop(oh_features, axis = 1)\\n\""
      ]
     },
     "execution_count": 17,
     "metadata": {},
     "output_type": "execute_result"
    }
   ],
   "source": [
    "oh_enc = OneHotEncoder(handle_unknown='ignore')\n",
    "\n",
    "or_enc = OrdinalEncoder(unknown_value = np.nan, handle_unknown='use_encoded_value')\n",
    "X_train[la_features] = or_enc.fit_transform(X_train[la_features])\n",
    "X_test[la_features] = or_enc.transform(X_test[la_features])\n",
    "\n",
    "'''\n",
    "arr = oh_enc.fit_transform(X_train[oh_features]).toarray()\n",
    "X_train = pd.concat([X_train, pd.DataFrame(arr, columns = oh_enc.get_feature_names_out()).astype('int64')], axis = 1)\n",
    "X_train = X_train.drop(oh_features, axis = 1)\n",
    "\n",
    "arr = oh_enc.transform(X_test[oh_features]).toarray()\n",
    "X_test = pd.concat([X_test, pd.DataFrame(arr, columns = oh_enc.get_feature_names_out()).astype('int64')], axis = 1)\n",
    "X_test = X_test.drop(oh_features, axis = 1)\n",
    "'''\n"
   ]
  },
  {
   "attachments": {},
   "cell_type": "markdown",
   "metadata": {},
   "source": [
    "### Modeling"
   ]
  },
  {
   "attachments": {},
   "cell_type": "markdown",
   "metadata": {},
   "source": [
    "LGBM"
   ]
  },
  {
   "cell_type": "code",
   "execution_count": 19,
   "metadata": {},
   "outputs": [
    {
     "name": "stdout",
     "output_type": "stream",
     "text": [
      "Fitting 3 folds for each of 6 candidates, totalling 18 fits\n",
      "best params :  {'learning_rate': 0.1, 'max_depth': 5, 'n_estimators': 200}\n",
      "best score :  0.6734291394636641\n"
     ]
    }
   ],
   "source": [
    "params = {\n",
    "    'learning_rate' : [0.01, 0.05, 0.1],\n",
    "    'n_estimators' : [100, 200],\n",
    "    'max_depth' : [5]\n",
    "}\n",
    "\n",
    "model = lgbm.LGBMClassifier()\n",
    "grid_lgbm = GridSearchCV(model, param_grid=params, scoring = 'roc_auc', cv=3, refit=True, verbose=True)\n",
    "grid_lgbm.fit(X_train, y_train)\n",
    "\n",
    "print('best params : ', grid_lgbm.best_params_)\n",
    "print('best score : ', grid_lgbm.best_score_)"
   ]
  },
  {
   "attachments": {},
   "cell_type": "markdown",
   "metadata": {},
   "source": [
    "XGBoost"
   ]
  },
  {
   "cell_type": "code",
   "execution_count": 36,
   "metadata": {},
   "outputs": [
    {
     "name": "stdout",
     "output_type": "stream",
     "text": [
      "Fitting 3 folds for each of 6 candidates, totalling 18 fits\n",
      "best params :  {'learning_rate': 0.1, 'max_depth': 5, 'n_estimators': 200}\n",
      "best score :  0.6734809421171656\n"
     ]
    }
   ],
   "source": [
    "params = {\n",
    "    'learning_rate' : [0.01, 0.05, 0.1],\n",
    "    'n_estimators' : [100, 200],\n",
    "    'max_depth' : [5]\n",
    "}\n",
    "\n",
    "model = xgb.XGBClassifier()\n",
    "grid_xgb = GridSearchCV(model, param_grid=params, scoring = 'roc_auc', cv=3, refit=True, verbose=True)\n",
    "grid_xgb.fit(X_train, y_train)\n",
    "\n",
    "print('best params : ', grid_xgb.best_params_)\n",
    "print('best score : ', grid_xgb.best_score_)"
   ]
  },
  {
   "cell_type": "code",
   "execution_count": 37,
   "metadata": {},
   "outputs": [],
   "source": [
    "y_test = grid_xgb.best_estimator_.predict_proba(X_test)"
   ]
  },
  {
   "cell_type": "code",
   "execution_count": 38,
   "metadata": {},
   "outputs": [],
   "source": [
    "y_test = pd.Series(y_test[:, 1], name=\"target\")"
   ]
  },
  {
   "attachments": {},
   "cell_type": "markdown",
   "metadata": {},
   "source": [
    "### Submission"
   ]
  },
  {
   "cell_type": "code",
   "execution_count": 39,
   "metadata": {},
   "outputs": [],
   "source": [
    "submission = pd.concat([test.id, y_test], axis = 1)"
   ]
  },
  {
   "cell_type": "code",
   "execution_count": 40,
   "metadata": {},
   "outputs": [],
   "source": [
    "submission.to_csv(\"./submission.csv\", index = False)"
   ]
  }
 ],
 "metadata": {
  "kernelspec": {
   "display_name": "Python 3.10.6 64-bit",
   "language": "python",
   "name": "python3"
  },
  "language_info": {
   "codemirror_mode": {
    "name": "ipython",
    "version": 3
   },
   "file_extension": ".py",
   "mimetype": "text/x-python",
   "name": "python",
   "nbconvert_exporter": "python",
   "pygments_lexer": "ipython3",
   "version": "3.10.6"
  },
  "orig_nbformat": 4,
  "vscode": {
   "interpreter": {
    "hash": "916dbcbb3f70747c44a77c7bcd40155683ae19c65e1c03b4aa3499c5328201f1"
   }
  }
 },
 "nbformat": 4,
 "nbformat_minor": 2
}
