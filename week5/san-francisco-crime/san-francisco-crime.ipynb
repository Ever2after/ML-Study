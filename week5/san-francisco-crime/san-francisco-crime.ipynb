{
 "cells": [
  {
   "cell_type": "markdown",
   "metadata": {},
   "source": [
    "### Imports"
   ]
  },
  {
   "cell_type": "code",
   "execution_count": null,
   "metadata": {},
   "outputs": [],
   "source": [
    "import numpy as np\n",
    "\n",
    "import pandas as pd\n",
    "\n",
    "from sklearn.model_selection import cross_val_score, GridSearchCV\n",
    "from sklearn.preprocessing import LabelEncoder, OneHotEncoder, StandardScaler\n",
    "from sklearn.feature_selection import mutual_info_regression\n",
    "from sklearn.experimental import enable_iterative_imputer\n",
    "from sklearn.impute import IterativeImputer, KNNImputer, SimpleImputer\n",
    "from sklearn.ensemble import RandomForestClassifier\n",
    "\n",
    "from category_encoders import TargetEncoder\n",
    "\n",
    "from matplotlib import pyplot as plt \n",
    "plt.style.use(\"seaborn-whitegrid\")\n",
    "plt.rc(\"figure\", autolayout=True)\n",
    "plt.rc(\n",
    "    \"axes\",\n",
    "    labelweight=\"bold\",\n",
    "    labelsize=\"large\",\n",
    "    titleweight=\"bold\",\n",
    "    titlesize=14,\n",
    "    titlepad=10,\n",
    ")\n",
    "\n",
    "import seaborn as sns\n",
    "\n",
    "import missingno as mno\n",
    "\n",
    "import xgboost as xgb\n",
    "\n",
    "import lightgbm as lgbm\n",
    "\n",
    "import catboost as catb"
   ]
  },
  {
   "cell_type": "markdown",
   "metadata": {},
   "source": [
    "### Data Load"
   ]
  },
  {
   "cell_type": "code",
   "execution_count": null,
   "metadata": {},
   "outputs": [],
   "source": [
    "train = pd.read_csv(\"./train.csv\")\n",
    "test = pd.read_csv(\"./test.csv\")\n",
    "\n",
    "y_train = train['Category']\n",
    "X_train = train.drop('Category', axis = 1)\n",
    "X_test = test.drop('Id', axis = 1)"
   ]
  },
  {
   "cell_type": "markdown",
   "metadata": {},
   "source": [
    "### Summarize"
   ]
  },
  {
   "cell_type": "code",
   "execution_count": null,
   "metadata": {},
   "outputs": [],
   "source": [
    "X_train.head()"
   ]
  },
  {
   "cell_type": "code",
   "execution_count": null,
   "metadata": {},
   "outputs": [],
   "source": [
    "X_train.info()"
   ]
  },
  {
   "cell_type": "code",
   "execution_count": null,
   "metadata": {},
   "outputs": [],
   "source": [
    "X_train.describe()"
   ]
  },
  {
   "cell_type": "code",
   "execution_count": null,
   "metadata": {},
   "outputs": [],
   "source": [
    "X_train.nunique()"
   ]
  },
  {
   "cell_type": "code",
   "execution_count": null,
   "metadata": {},
   "outputs": [],
   "source": [
    "y_train.nunique()"
   ]
  },
  {
   "cell_type": "code",
   "execution_count": null,
   "metadata": {},
   "outputs": [],
   "source": [
    "X_train.isna().sum()"
   ]
  },
  {
   "cell_type": "markdown",
   "metadata": {},
   "source": [
    "### Date Parsing"
   ]
  },
  {
   "cell_type": "code",
   "execution_count": null,
   "metadata": {},
   "outputs": [],
   "source": [
    "X_train['Dates'] = pd.to_datetime(X_train['Dates'])\n",
    "X_test['Dates'] = pd.to_datetime(X_test['Dates'])"
   ]
  },
  {
   "cell_type": "code",
   "execution_count": null,
   "metadata": {},
   "outputs": [],
   "source": [
    "def parseDate(df):\n",
    "    df['Year'] = df['Dates'].dt.year\n",
    "    df['Month'] = df['Dates'].dt.month\n",
    "    df['Hour'] = df['Dates'].dt.hour\n",
    "    df = df.drop('Dates', axis = 1)\n",
    "    return df\n",
    "\n",
    "X_train = parseDate(X_train)\n",
    "X_test = parseDate(X_test)\n",
    "\n",
    "X_train.head()"
   ]
  },
  {
   "cell_type": "markdown",
   "metadata": {},
   "source": [
    "### Seperate 'descript' and drop 'resolution'"
   ]
  },
  {
   "cell_type": "code",
   "execution_count": null,
   "metadata": {},
   "outputs": [],
   "source": [
    "D_train = X_train['Descript']\n",
    "X_train = X_train.drop(['Descript', 'Resolution'], axis = 1)"
   ]
  },
  {
   "cell_type": "markdown",
   "metadata": {},
   "source": [
    "### Encoding"
   ]
  },
  {
   "cell_type": "code",
   "execution_count": null,
   "metadata": {},
   "outputs": [],
   "source": [
    "la_enc = LabelEncoder()\n",
    "y_train = pd.DataFrame(la_enc.fit_transform(y_train))\n",
    "y_train"
   ]
  },
  {
   "cell_type": "markdown",
   "metadata": {},
   "source": [
    "### Scaling"
   ]
  },
  {
   "cell_type": "code",
   "execution_count": null,
   "metadata": {},
   "outputs": [],
   "source": [
    "scaler = StandardScaler()\n",
    "scaling_features = ['X', 'Y']\n",
    "\n",
    "scaled_X_train = pd.DataFrame(scaler.fit_transform(X_train[scaling_features]), columns = scaling_features)\n",
    "scaled_X_test = pd.DataFrame(scaler.transform(X_test[scaling_features]), columns = scaling_features)\n",
    "\n",
    "X_train[scaling_features] = scaled_X_train\n",
    "X_test[scaling_features] = scaled_X_test\n",
    "\n",
    "X_train.describe()"
   ]
  },
  {
   "cell_type": "markdown",
   "metadata": {},
   "source": [
    "### Type decision"
   ]
  },
  {
   "cell_type": "code",
   "execution_count": null,
   "metadata": {},
   "outputs": [],
   "source": [
    "cat_features = X_train.select_dtypes(['int64', 'object']).columns\n",
    "\n",
    "X_train[cat_features] = X_train[cat_features].astype('category')\n",
    "X_test[cat_features] = X_test[cat_features].astype('category')\n",
    "\n",
    "X_train.info()"
   ]
  },
  {
   "cell_type": "code",
   "execution_count": null,
   "metadata": {},
   "outputs": [],
   "source": [
    "X_test.info()"
   ]
  },
  {
   "cell_type": "markdown",
   "metadata": {},
   "source": [
    "### Modeling and Scoring"
   ]
  },
  {
   "cell_type": "markdown",
   "metadata": {},
   "source": [
    "Catboost"
   ]
  },
  {
   "cell_type": "code",
   "execution_count": null,
   "metadata": {},
   "outputs": [],
   "source": [
    "params = {\n",
    "    'learning_rate' : [0.04, 0.07, 1.0],\n",
    "    'iterations' : [100, 200],\n",
    "    'depth' : [7]\n",
    "}\n",
    "\n",
    "model = catb.CatBoostClassifier(cat_features = cat_features.to_list(), task_type=\"GPU\", devices='00000000:01:00.0')\n",
    "\n",
    "grid_catb = GridSearchCV(model, param_grid=params, scoring = 'neg_log_loss', cv=3, refit=True)\n",
    "grid_catb.fit(X_train, y_train)\n",
    "\n",
    "print('best params : ', grid_catb.best_params_)\n",
    "print('best score : ', grid_catb.best_score_)\n"
   ]
  },
  {
   "cell_type": "markdown",
   "metadata": {},
   "source": [
    "XGBoost Classifier"
   ]
  },
  {
   "cell_type": "code",
   "execution_count": null,
   "metadata": {},
   "outputs": [],
   "source": [
    "params = {\n",
    "    'learning_rate' : [0.04, 0.07],\n",
    "    'n_estimators' : [100, 300],\n",
    "    'max_depth' : [5]\n",
    "}\n",
    "model = xgb.XGBClassifier(enable_categorical=True, tree_method = 'gpu_hist', gpu_id = 0)\n",
    "\n",
    "grid_xgb = GridSearchCV(model, param_grid=params, scoring='neg_log_loss', cv=3, refit=True)\n",
    "grid_xgb.fit(X_train, y_train)\n",
    "\n",
    "print('best params : ', grid_xgb.best_params_)\n",
    "print('best score : ', grid_xgb.best_score_)"
   ]
  },
  {
   "cell_type": "markdown",
   "metadata": {},
   "source": [
    "Use 'D'"
   ]
  },
  {
   "cell_type": "code",
   "execution_count": null,
   "metadata": {},
   "outputs": [],
   "source": [
    "la_enc2 = LabelEncoder()\n",
    "D_train = pd.DataFrame(la_enc2.fit_transform(D_train), columns = ['Descript'])\n",
    "D_train.head()"
   ]
  },
  {
   "cell_type": "code",
   "execution_count": null,
   "metadata": {},
   "outputs": [],
   "source": [
    "params = {\n",
    "    'learning_rate' : [0.07],\n",
    "    'iterations' : [100],\n",
    "    'depth' : [7]\n",
    "}\n",
    "\n",
    "model = catb.CatBoostClassifier(cat_features = ['Descript'], task_type=\"GPU\", devices='00000000:01:00.0')\n",
    "\n",
    "grid_catb = GridSearchCV(model, param_grid=params, scoring='neg_log_loss', cv=3, refit=True)\n",
    "grid_catb.fit(D_train, y_train)\n",
    "\n",
    "print('best params : ', grid_catb.best_params_)\n",
    "print('best score : ', grid_catb.best_score_)"
   ]
  },
  {
   "cell_type": "code",
   "execution_count": null,
   "metadata": {},
   "outputs": [],
   "source": [
    "model = catb.CatBoostClassifier(cat_features = cat_features.to_list(), task_type=\"GPU\", devices='00000000:01:00.0',\n",
    "   learning_rate = 0.07,\n",
    "   iterations = 100,\n",
    "   depth = 4\n",
    ")\n",
    "model.fit(X_train, D_train)\n",
    "D_test = model.predict(X_test, prediction_type='Class')\n",
    "D_test"
   ]
  },
  {
   "cell_type": "markdown",
   "metadata": {},
   "source": [
    "### Submission"
   ]
  },
  {
   "cell_type": "markdown",
   "metadata": {},
   "source": [
    "Catboost"
   ]
  },
  {
   "cell_type": "code",
   "execution_count": null,
   "metadata": {},
   "outputs": [],
   "source": [
    "model = catb.CatBoostClassifier(cat_features = cat_features.to_list(), task_type=\"GPU\", devices='00000000:01:00.0',\n",
    "   learning_rate = 0.07,\n",
    "   iterations = 100,\n",
    "   depth = 7\n",
    ")\n",
    "model.fit(X_train, y_train)\n",
    "y_test = model.predict_proba(X_test)\n",
    "y_test.shape"
   ]
  },
  {
   "cell_type": "markdown",
   "metadata": {},
   "source": [
    "XGBoost"
   ]
  },
  {
   "cell_type": "code",
   "execution_count": null,
   "metadata": {},
   "outputs": [],
   "source": [
    "model = xgb.XGBClassifier(\n",
    "   enable_categorical=True, \n",
    "   tree_method = 'gpu_hist', \n",
    "   gpu_id = 0,\n",
    "   learning_rate = 0.07,\n",
    "   n_estimators = 100,\n",
    "   max_depth = 5\n",
    ")\n",
    "model.fit(X_train, y_train)\n",
    "y_test = model.predict_proba(X_test)\n",
    "y_test.shape"
   ]
  },
  {
   "cell_type": "markdown",
   "metadata": {},
   "source": [
    "Inverse transform"
   ]
  },
  {
   "cell_type": "code",
   "execution_count": null,
   "metadata": {},
   "outputs": [],
   "source": [
    "labels = la_enc.inverse_transform(np.arange(0,39))\n",
    "y_test = pd.DataFrame(y_test, columns = labels)\n",
    "y_test = pd.concat([test['Id'], y_test], axis = 1)\n",
    "y_test.head()"
   ]
  },
  {
   "cell_type": "markdown",
   "metadata": {},
   "source": [
    "Make submission"
   ]
  },
  {
   "cell_type": "code",
   "execution_count": null,
   "metadata": {},
   "outputs": [],
   "source": [
    "\n",
    "y_test.to_csv(\"./submission.csv\", index = False)\n"
   ]
  }
 ],
 "metadata": {
  "kernelspec": {
   "display_name": "Python 3.10.6 64-bit",
   "language": "python",
   "name": "python3"
  },
  "language_info": {
   "codemirror_mode": {
    "name": "ipython",
    "version": 3
   },
   "file_extension": ".py",
   "mimetype": "text/x-python",
   "name": "python",
   "nbconvert_exporter": "python",
   "pygments_lexer": "ipython3",
   "version": "3.10.6"
  },
  "orig_nbformat": 4,
  "vscode": {
   "interpreter": {
    "hash": "916dbcbb3f70747c44a77c7bcd40155683ae19c65e1c03b4aa3499c5328201f1"
   }
  }
 },
 "nbformat": 4,
 "nbformat_minor": 2
}
